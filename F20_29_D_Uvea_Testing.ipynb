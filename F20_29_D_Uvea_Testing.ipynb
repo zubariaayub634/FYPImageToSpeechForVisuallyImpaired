{
  "nbformat": 4,
  "nbformat_minor": 0,
  "metadata": {
    "colab": {
      "name": "F20-29-D-Uvea-Testing.ipynb",
      "provenance": [],
      "collapsed_sections": []
    },
    "kernelspec": {
      "name": "python3",
      "display_name": "Python 3"
    }
  },
  "cells": [
    {
      "cell_type": "markdown",
      "metadata": {
        "id": "_skts_zvaGZK"
      },
      "source": [
        "### Furniture Testing (Keras)"
      ]
    },
    {
      "cell_type": "code",
      "metadata": {
        "colab": {
          "base_uri": "https://localhost:8080/"
        },
        "id": "wBjxtZEnSFTQ",
        "outputId": "a66b45b0-9077-47b2-ea8f-5d2dd062ceea"
      },
      "source": [
        "import tensorflow.keras\n",
        "from PIL import Image, ImageOps\n",
        "import numpy as np\n",
        "\n",
        "#from google.colab import drive\n",
        "#drive.mount('/content/drive')\n",
        "\n",
        "CATEGORIES = ['sofa','table','chair','bed','door']\n",
        "# Disable scientific notation for clarity\n",
        "np.set_printoptions(suppress=True)\n",
        "\n",
        "# Load the model\n",
        "model = tensorflow.keras.models.load_model('keras_model.h5')\n",
        "\n",
        "# Create the array of the right shape to feed into the keras model\n",
        "# The 'length' or number of images you can put into the array is\n",
        "# determined by the first position in the shape tuple, in this case 1.\n",
        "data = np.ndarray(shape=(1, 224, 224, 3), dtype=np.float32)\n",
        "\n",
        "folders = [['bed','1','100'],['chair', '1','100'],['sofa','1','100'],['swivelchair','1','100'],['table','1','23']] #folder name, start image, end image\n",
        "detected = 0\n",
        "total = 0\n",
        "\n",
        "for i in range(5): #loop for all 5 folders\n",
        "  print(i)\n",
        "  imgNum = int (folders[i][1])\n",
        "  t_img =  int (folders[i][2])\n",
        "  \n",
        "  while (imgNum <= t_img): #all images of each folder\n",
        "  \n",
        "    path = '/content/drive/MyDrive/val/' + folders[i][0] + '/' + str (imgNum) + '.jpg'\n",
        "    imgNum += 1\n",
        "    total += 1\n",
        "    # Replace this with the path to your image\n",
        "    image = Image.open(path)\n",
        "\n",
        "\n",
        "    #resize the image to a 224x224 with the same strategy as in TM2:\n",
        "    #resizing the image to be at least 224x224 and then cropping from the center\n",
        "    size = (224, 224)\n",
        "    image = ImageOps.fit(image, size, Image.ANTIALIAS)\n",
        "\n",
        "    #turn the image into a numpy array\n",
        "    image_array = np.asarray(image)\n",
        "\n",
        "    # display the resized image\n",
        "    image.show()\n",
        "\n",
        "    # Normalize the image\n",
        "    normalized_image_array = (image_array.astype(np.float32) / 127.0) - 1\n",
        "\n",
        "    # Load the image into the array\n",
        "    data[0] = normalized_image_array\n",
        "\n",
        "    # run the inference\n",
        "    prediction = model.predict(data)\n",
        "\n",
        "    #print(prediction)\n",
        "\n",
        "    max = 0\n",
        "    index = 0\n",
        "    for j in range(5):  #getting max value from prediction\n",
        "      if (prediction[0][j] > max):\n",
        "        max = prediction[0][j]\n",
        "        index = j\n",
        "\n",
        "    if (CATEGORIES[index] == folders[i][0]): #comparing max prediction to index \n",
        "      detected += 1\n",
        "    if (CATEGORIES[index] == 'chair' and folders[i][0] == 'swivelchair'):\n",
        "      detected += 1\n",
        "    #print(CATEGORIES[index])\n",
        "\n",
        "print(total, ' ', detected)\n",
        "print((detected/total)*100) #accuracy\n",
        "\n"
      ],
      "execution_count": null,
      "outputs": [
        {
          "output_type": "stream",
          "text": [
            "WARNING:tensorflow:No training configuration found in the save file, so the model was *not* compiled. Compile it manually.\n",
            "0\n",
            "1\n",
            "2\n",
            "3\n",
            "4\n",
            "423   391\n",
            "92.43498817966903\n"
          ],
          "name": "stdout"
        }
      ]
    },
    {
      "cell_type": "code",
      "metadata": {
        "colab": {
          "base_uri": "https://localhost:8080/"
        },
        "id": "lX6EhNX9-ztz",
        "outputId": "bd64837d-4a48-4535-aabb-ca1919329aa5"
      },
      "source": [
        "from google.colab import drive\n",
        "drive.mount('/content/drive')"
      ],
      "execution_count": null,
      "outputs": [
        {
          "output_type": "stream",
          "text": [
            "Mounted at /content/drive\n"
          ],
          "name": "stdout"
        }
      ]
    },
    {
      "cell_type": "markdown",
      "metadata": {
        "id": "szSLc0x-aPXX"
      },
      "source": [
        "### Furniture Testing (tflite)"
      ]
    },
    {
      "cell_type": "code",
      "metadata": {
        "colab": {
          "base_uri": "https://localhost:8080/"
        },
        "id": "RjuYYJxtT8Kq",
        "outputId": "b0f6cc9c-e8f5-4f1c-9e9d-c93b643e3adf"
      },
      "source": [
        "import numpy as np\n",
        "import tensorflow as tf\n",
        "\n",
        "# Load the TFLite model and allocate tensors.\n",
        "interpreter = tf.lite.Interpreter(model_path=\"/content/model_unquant.tflite\")\n",
        "interpreter.allocate_tensors()\n",
        "\n",
        "CATEGORIES = ['sofa','table','chair','bed','door']\n",
        "\n",
        "# Get input and output tensors.\n",
        "input_details = interpreter.get_input_details()\n",
        "output_details = interpreter.get_output_details()\n",
        "import cv2\n",
        "\n",
        "folders = [['bed','1','100'],['chair', '1','100'],['sofa','1','100'],['swivelchair','1','100'],['table','1','23']] #folder name, start image, end image\n",
        "detected = 0\n",
        "total = 0\n",
        "\n",
        "for i in range(5):\n",
        "  print(i)\n",
        "  imgNum = int (folders[i][1])\n",
        "  t_img =  int (folders[i][2])\n",
        "  \n",
        "  while (imgNum <= t_img):\n",
        "  \n",
        "    image_path = '/content/drive/MyDrive/val/' + folders[i][0] + '/' + str (imgNum) + '.jpg'\n",
        "    imgNum += 1\n",
        "    total += 1\n",
        "    \n",
        "    img = cv2.imread(image_path)\n",
        "    img = cv2.resize(img,(224,224))\n",
        "    #Preprocess the image to required size and cast\n",
        "    input_shape = input_details[0]['shape']\n",
        "    input_tensor= np.array(np.expand_dims(img,0), dtype=np.float32)\n",
        "    #set the tensor to point to the input data to be inferred\n",
        "    input_index = interpreter.get_input_details()[0][\"index\"]\n",
        "    interpreter.set_tensor(input_index, input_tensor)\n",
        "    #Run the inference\n",
        "    interpreter.invoke()\n",
        "    output_details = interpreter.get_output_details()\n",
        "    output_data = interpreter.get_tensor(output_details[0]['index'])\n",
        "    results = np.squeeze(output_data)\n",
        "    top_k = results.argsort()\n",
        "    #output_data\n",
        "    max = 0\n",
        "    \n",
        "    index = 0\n",
        "    for j in range(5):\n",
        "      if (output_data[0][j] > max):\n",
        "        max = output_data[0][j]\n",
        "        index = j\n",
        "\n",
        "    if (CATEGORIES[index] == folders[i][0]):\n",
        "      detected += 1\n",
        "    if (CATEGORIES[index] == 'chair' and folders[i][0] == 'swivelchair'):\n",
        "      detected += 1\n",
        "    #print(CATEGORIES[index])\n",
        "\n",
        "print(total, ' ', detected)\n",
        "print((detected/total)*100)\n",
        "    "
      ],
      "execution_count": null,
      "outputs": [
        {
          "output_type": "stream",
          "text": [
            "0\n",
            "1\n",
            "2\n",
            "3\n",
            "4\n",
            "423   200\n",
            "47.28132387706856\n"
          ],
          "name": "stdout"
        }
      ]
    },
    {
      "cell_type": "code",
      "metadata": {
        "id": "b3vqVbdPCivb"
      },
      "source": [
        "!pip install tensorflow\n",
        "!pip install pillow\n",
        "!pip install numpy\n",
        "!pip install opencv-python"
      ],
      "execution_count": null,
      "outputs": []
    },
    {
      "cell_type": "markdown",
      "metadata": {
        "id": "9vciTaM-abeo"
      },
      "source": [
        "### Money Testing (Keras)"
      ]
    },
    {
      "cell_type": "code",
      "metadata": {
        "colab": {
          "base_uri": "https://localhost:8080/"
        },
        "id": "FNHB4dEh5Lv5",
        "outputId": "ddafb280-d231-4494-add7-00554941f9fb"
      },
      "source": [
        "import tensorflow.keras\n",
        "from PIL import Image, ImageOps\n",
        "import numpy as np\n",
        "from PIL import ImageFile\n",
        "ImageFile.LOAD_TRUNCATED_IMAGES = True\n",
        "#from google.colab import drive\n",
        "#drive.mount('/content/drive')\n",
        "\n",
        "CATEGORIES = ['10','20','50','100','500','1000','5000']\n",
        "#CATEGORIES = ['5000','1000','100','500','50','20','10']\n",
        "# Disable scientific notation for clarity\n",
        "np.set_printoptions(suppress=True)\n",
        "\n",
        "# Load the model\n",
        "model = tensorflow.keras.models.load_model('keras_model.h5')\n",
        "\n",
        "# Create the array of the right shape to feed into the keras model\n",
        "# The 'length' or number of images you can put into the array is\n",
        "# determined by the first position in the shape tuple, in this case 1.\n",
        "data = np.ndarray(shape=(1, 224, 224, 3), dtype=np.float32)\n",
        "\n",
        "folders = [['10','1','8'],['20','1','5'],['50','1','8'],['100','1','10'],['500','1','9'],['1000', '1','9'],['5000','1','9']]\n",
        "detected = 0\n",
        "total = 0\n",
        "\n",
        "for i in range(7):\n",
        "  print(i)\n",
        "  imgNum = int (folders[i][1])\n",
        "  t_img =  int (folders[i][2])\n",
        "  \n",
        "  while (imgNum <= t_img):\n",
        "  \n",
        "    path = '/content/drive/MyDrive/FYP/Test Money/' + folders[i][0] + '/' + str (imgNum) + '.jpg'\n",
        "    imgNum += 1\n",
        "    total += 1\n",
        "    # Replace this with the path to your image\n",
        "    image = Image.open(path)\n",
        "\n",
        "\n",
        "    #resize the image to a 224x224 with the same strategy as in TM2:\n",
        "    #resizing the image to be at least 224x224 and then cropping from the center\n",
        "    size = (224, 224)\n",
        "    image = ImageOps.fit(image, size, Image.ANTIALIAS)\n",
        "\n",
        "    #turn the image into a numpy array\n",
        "    image_array = np.asarray(image)\n",
        "\n",
        "    # display the resized image\n",
        "    image.show()\n",
        "\n",
        "    # Normalize the image\n",
        "    normalized_image_array = (image_array.astype(np.float32) / 127.0) - 1\n",
        "\n",
        "    # Load the image into the array\n",
        "    data[0] = normalized_image_array\n",
        "\n",
        "    # run the inference\n",
        "    prediction = model.predict(data)\n",
        "\n",
        "    #print(prediction)\n",
        "\n",
        "    max = 0\n",
        "    index = 0\n",
        "    for j in range(7): #getting max value from predictions, calculate index from categories\n",
        "      if (prediction[0][j] > max):\n",
        "        max = prediction[0][j]\n",
        "        index = j\n",
        "\n",
        "    if (CATEGORIES[index] == folders[i][0]):\n",
        "      detected += 1\n",
        "\n",
        "print(total, ' ', detected)\n",
        "print((detected/total)*100) #accuracy\n",
        "\n"
      ],
      "execution_count": null,
      "outputs": [
        {
          "output_type": "stream",
          "text": [
            "WARNING:tensorflow:No training configuration found in the save file, so the model was *not* compiled. Compile it manually.\n",
            "0\n",
            "1\n",
            "2\n",
            "3\n",
            "4\n",
            "5\n",
            "6\n",
            "58   31\n",
            "53.44827586206896\n"
          ],
          "name": "stdout"
        }
      ]
    },
    {
      "cell_type": "markdown",
      "metadata": {
        "id": "BfEJMw4JajiE"
      },
      "source": [
        "### Money Testing (tflite)"
      ]
    },
    {
      "cell_type": "code",
      "metadata": {
        "colab": {
          "base_uri": "https://localhost:8080/"
        },
        "id": "UrhG1NKrADQ5",
        "outputId": "8be1ae3f-1a57-4713-fdc7-daffa6b4e9d0"
      },
      "source": [
        "import numpy as np\n",
        "import tensorflow as tf\n",
        "\n",
        "# Load the TFLite model and allocate tensors.\n",
        "#interpreter = tf.lite.Interpreter(model_path=\"/content/converted_model.tflite\")\n",
        "interpreter = tf.lite.Interpreter(model_path=\"/content/model_unquant.tflite\")\n",
        "interpreter.allocate_tensors()\n",
        "\n",
        "#CATEGORIES = ['10','20','50','100','500','1000','5000'] #order 1\n",
        "CATEGORIES = ['5000','1000','100','500','50','20','10']   #order 2\n",
        "\n",
        "# Get input and output tensors.\n",
        "input_details = interpreter.get_input_details()\n",
        "output_details = interpreter.get_output_details()\n",
        "import cv2\n",
        "\n",
        "folders = [['10','1','8'],['20','1','5'],['50','1','8'],['100','1','10'],['500','1','9'],['1000', '1','9'],['5000','1','9']]\n",
        "detected = 0\n",
        "total = 0\n",
        "\n",
        "for i in range(7):\n",
        "  print(i)\n",
        "  imgNum = int (folders[i][1])\n",
        "  t_img =  int (folders[i][2])\n",
        "  \n",
        "  while (imgNum <= t_img):\n",
        "  \n",
        "    image_path = '/content/drive/MyDrive/FYP/Test Money/' + folders[i][0] + '/' + str (imgNum) + '.jpg'\n",
        "    imgNum += 1\n",
        "    total += 1\n",
        "    \n",
        "    img = cv2.imread(image_path)\n",
        "    img = cv2.resize(img,(224,224))\n",
        "    #Preprocess the image to required size and cast\n",
        "    input_shape = input_details[0]['shape']\n",
        "    input_tensor= np.array(np.expand_dims(img,0), dtype=np.float32)\n",
        "    #set the tensor to point to the input data to be inferred\n",
        "    input_index = interpreter.get_input_details()[0][\"index\"]\n",
        "    interpreter.set_tensor(input_index, input_tensor)\n",
        "    #Run the inference\n",
        "    interpreter.invoke()\n",
        "    output_details = interpreter.get_output_details()\n",
        "    output_data = interpreter.get_tensor(output_details[0]['index'])\n",
        "    results = np.squeeze(output_data)\n",
        "    top_k = results.argsort()\n",
        "    #output_data\n",
        "    max = 0\n",
        "    \n",
        "    index = 0\n",
        "    for j in range(7):\n",
        "      if (output_data[0][j] > max):\n",
        "        max = output_data[0][j]\n",
        "        index = j\n",
        "\n",
        "    if (CATEGORIES[index] == folders[i][0]):\n",
        "      detected += 1\n",
        "\n",
        "print(total, ' ', detected)\n",
        "print((detected/total)*100)\n",
        "    "
      ],
      "execution_count": null,
      "outputs": [
        {
          "output_type": "stream",
          "text": [
            "0\n",
            "1\n",
            "2\n",
            "3\n",
            "4\n",
            "5\n",
            "6\n",
            "58   9\n",
            "15.517241379310345\n"
          ],
          "name": "stdout"
        }
      ]
    },
    {
      "cell_type": "markdown",
      "metadata": {
        "id": "2cev7vQYas4X"
      },
      "source": [
        "Code Reference: \r\n",
        "Tflite: \r\n",
        "https://towardsdatascience.com/inferences-from-a-tf-lite-model-transfer-learning-on-a-pre-trained-model-e16e7c5f0ee6\r\n",
        "\r\n",
        "Keras: https://github.com/googlecreativelab/teachablemachine-community/blob/master/snippets/markdown/image/tensorflow/keras.md"
      ]
    }
  ]
}